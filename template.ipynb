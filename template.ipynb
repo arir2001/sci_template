{
 "cells": [
  {
   "cell_type": "code",
   "execution_count": 1,
   "metadata": {},
   "outputs": [
    {
     "name": "stdout",
     "output_type": "stream",
     "text": [
      "Anna Marie Rooney\n",
      "19333456\n",
      "Assignment One, part two, Hutzler\n"
     ]
    }
   ],
   "source": [
    "print('Anna Marie Rooney')\n",
    "\n",
    "print('19333456')\n",
    "\n",
    "print('Assignment X,  Hutzler Mitchison')"
   ]
  },
  {
   "cell_type": "code",
   "execution_count": null,
   "metadata": {},
   "outputs": [],
   "source": [
    "pathdir = 'plots/individual_xn_plots'\n",
    "if not os.path.exists(pathdir):\n",
    "    os.makedirs(pathdir)\n",
    "    \n",
    "    \n",
    "import matplotlib.pyplot as plt\n",
    "import numpy as np\n",
    "\n",
    "pathdir = 'plots/individual_xn_plots'\n",
    "if not os.path.exists(pathdir):\n",
    "    os.makedirs(pathdir)\n",
    "\n",
    "\"\"\"\n",
    "#individual plots\n",
    "\n",
    "plt.plot(squared_numbers, itera, label=r\"estimation for $(\\sqrt{x_{n+1}})^2$\", color='blue')\n",
    "plt.plot(xn, itera, label=r\"estimation for $\\sqrt{x_{n+1}}$\", color='green')\n",
    "\n",
    "#scatter plots with zorder=3 so it overlays on top of the line graph. \n",
    "plt.scatter(squared_numbers, itera, color='black', s=18, label=\"_nolegend_\", zorder=3)\n",
    "plt.axvline(x=2, color='red', linestyle='--', label='x=2')\n",
    "\n",
    "plt.ylim(-0.1, 5) \n",
    "\n",
    "plt.title(fr\"Heron Method for a=2: starting value $x_0 = {x0}$\")      # Title of the plot\n",
    "plt.xlabel(r\"Input $x_{n+1} = {\\frac{1}{2}(x_n + \\frac{2}{x_n}})$\")                      # Label for x-axis\n",
    "plt.ylabel(\"Iteration number, n\")  \n",
    "plt.legend()\n",
    "    \n",
    "#SAVE the plot to the directory\n",
    "save_path = os.path.join(pathdir, fr'heronplot{x0}.png')\n",
    "plt.savefig(save_path)  #save the figure as a .png file\n",
    "\n",
    "print(f\"Plot saved to: {save_path}\")\n",
    "\n",
    "#show the plot\n",
    "plt.show()\n",
    "\n",
    "#clear figure so plots dont overlap.\n",
    "plt.clf()\n",
    "\"\"\"\n"
   ]
  },
  {
   "cell_type": "code",
   "execution_count": null,
   "metadata": {},
   "outputs": [],
   "source": [
    "\"\"\"\n",
    "#using pandaas-- first convert to data frame, then make a tabele and print it\n",
    "df_results = pd.DataFrame(results)\n",
    "\n",
    "print(df_results)\n",
    "\n",
    "#save table to csv\n",
    "df_results.to_csv('derivatives_results.csv', index=False)  #index=False so dataframe excluded from results. \n",
    "print(\"CSV file saved as 'derivatives_results.csv'\")\n",
    "\"\"\""
   ]
  }
 ],
 "metadata": {
  "kernelspec": {
   "display_name": "Python 3",
   "language": "python",
   "name": "python3"
  },
  "language_info": {
   "codemirror_mode": {
    "name": "ipython",
    "version": 3
   },
   "file_extension": ".py",
   "mimetype": "text/x-python",
   "name": "python",
   "nbconvert_exporter": "python",
   "pygments_lexer": "ipython3",
   "version": "3.12.6"
  }
 },
 "nbformat": 4,
 "nbformat_minor": 2
}
